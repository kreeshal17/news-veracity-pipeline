{
 "cells": [
  {
   "cell_type": "code",
   "execution_count": 3,
   "id": "2bbf58f8-ba7a-4388-a4da-e62ef6ff76f4",
   "metadata": {},
   "outputs": [
    {
     "name": "stdout",
     "output_type": "stream",
     "text": [
      "Train Accuracy: 0.9536306235201263\n",
      "Test Accuracy: 0.9116022099447514\n"
     ]
    }
   ],
   "source": [
    "import re\n",
    "import spacy\n",
    "import pandas as pd\n",
    "from sklearn.pipeline import Pipeline\n",
    "from sklearn.preprocessing import FunctionTransformer\n",
    "from sklearn.feature_extraction.text import TfidfVectorizer\n",
    "from sklearn.linear_model import LogisticRegression\n",
    "from sklearn.model_selection import train_test_split\n",
    "\n",
    "# Load spacy model only ONCE (not inside the function!)\n",
    "nlp = spacy.load(\"en_core_web_sm\")\n",
    "\n",
    "# Preprocessing function (for FunctionTransformer)\n",
    "def preprocessing(texts):\n",
    "    cleaned_texts = []\n",
    "    for text in texts:\n",
    "        text = text.lower()\n",
    "        text = re.sub(r\"[^a-z\\s]\", \"\", text)\n",
    "        doc = nlp(text)\n",
    "        lemmatized = [token.lemma_ for token in doc if not token.is_stop]\n",
    "        cleaned_texts.append(\" \".join(lemmatized))\n",
    "    return cleaned_texts\n",
    "\n",
    "# Wrap function into FunctionTransformer\n",
    "transform = FunctionTransformer(preprocessing, validate=False)\n",
    "\n",
    "data=pd.read_csv(\"news.csv\")\n",
    "df = pd.DataFrame(data)\n",
    "df = df.drop(columns=[\"Unnamed: 0\"])\n",
    "df[\"content\"] = df[\"title\"] + \" \" + df[\"text\"]\n",
    "\n",
    "X = df[\"content\"]\n",
    "y = df[\"label\"]\n",
    "\n",
    "# Train/test split\n",
    "x_train, x_test, y_train, y_test = train_test_split(\n",
    "    X, y, test_size=0.2, random_state=42\n",
    ")\n",
    "\n",
    "# Build pipeline\n",
    "\n",
    "model = Pipeline([\n",
    "    (\"preprocessing\", transform),\n",
    "    (\"vectorizer\", TfidfVectorizer(stop_words=\"english\")),\n",
    "    (\"clf\", LogisticRegression(max_iter=200))\n",
    "])\n",
    "\n",
    "# Train\n",
    "model.fit(x_train, y_train)\n",
    "\n",
    "# Evaluate\n",
    "print(\"Train Accuracy:\", model.score(x_train, y_train))\n",
    "print(\"Test Accuracy:\", model.score(x_test, y_test))\n"
   ]
  }
 ],
 "metadata": {
  "kernelspec": {
   "display_name": "Python [conda env:base] *",
   "language": "python",
   "name": "conda-base-py"
  },
  "language_info": {
   "codemirror_mode": {
    "name": "ipython",
    "version": 3
   },
   "file_extension": ".py",
   "mimetype": "text/x-python",
   "name": "python",
   "nbconvert_exporter": "python",
   "pygments_lexer": "ipython3",
   "version": "3.13.5"
  }
 },
 "nbformat": 4,
 "nbformat_minor": 5
}
